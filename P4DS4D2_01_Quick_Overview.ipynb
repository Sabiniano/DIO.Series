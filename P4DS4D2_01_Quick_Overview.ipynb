{
  "cells": [
    {
      "cell_type": "markdown",
      "metadata": {
        "id": "view-in-github",
        "colab_type": "text"
      },
      "source": [
        "<a href=\"https://colab.research.google.com/github/Sabiniano/DIO.Series/blob/master/P4DS4D2_01_Quick_Overview.ipynb\" target=\"_parent\"><img src=\"https://colab.research.google.com/assets/colab-badge.svg\" alt=\"Open In Colab\"/></a>"
      ]
    },
    {
      "cell_type": "markdown",
      "metadata": {
        "id": "5Tqg2Pch3C6W"
      },
      "source": [
        "# Learning to Use Python Fast"
      ]
    },
    {
      "cell_type": "markdown",
      "metadata": {
        "id": "rRZHW80l3C6d"
      },
      "source": [
        "## Loading data"
      ]
    },
    {
      "cell_type": "code",
      "execution_count": null,
      "metadata": {
        "id": "Y1_a6nDq3C6e"
      },
      "outputs": [],
      "source": [
        "from sklearn.datasets import load_boston\n",
        "boston = load_boston()\n",
        "X, y = boston.data,boston.target"
      ]
    },
    {
      "cell_type": "markdown",
      "metadata": {
        "id": "xuVKB8nH3C6h"
      },
      "source": [
        "## Training a model"
      ]
    },
    {
      "cell_type": "code",
      "execution_count": null,
      "metadata": {
        "id": "kxsiSyFI3C6h",
        "outputId": "0e7227c8-bc45-49be-9584-5923345207a2"
      },
      "outputs": [
        {
          "data": {
            "text/plain": [
              "LinearRegression(copy_X=True, fit_intercept=True, n_jobs=1, normalize=True)"
            ]
          },
          "execution_count": 2,
          "metadata": {},
          "output_type": "execute_result"
        }
      ],
      "source": [
        "from sklearn.linear_model import LinearRegression\n",
        "hypothesis = LinearRegression(normalize=True)\n",
        "hypothesis.fit(X,y)"
      ]
    },
    {
      "cell_type": "markdown",
      "metadata": {
        "id": "R3qS9nKI3C6j"
      },
      "source": [
        "## Viewing a result"
      ]
    },
    {
      "cell_type": "code",
      "execution_count": null,
      "metadata": {
        "id": "YJ_0cYYA3C6j",
        "outputId": "986d0bff-370c-4aab-d90e-944dfa57a263"
      },
      "outputs": [
        {
          "name": "stdout",
          "output_type": "stream",
          "text": [
            "[-1.07170557e-01  4.63952195e-02  2.08602395e-02  2.68856140e+00\n",
            " -1.77957587e+01  3.80475246e+00  7.51061703e-04 -1.47575880e+00\n",
            "  3.05655038e-01 -1.23293463e-02 -9.53463555e-01  9.39251272e-03\n",
            " -5.25466633e-01]\n"
          ]
        }
      ],
      "source": [
        "print(hypothesis.coef_)"
      ]
    },
    {
      "cell_type": "code",
      "execution_count": null,
      "metadata": {
        "id": "PIznEDck3C6l"
      },
      "outputs": [],
      "source": [
        ""
      ]
    }
  ],
  "metadata": {
    "kernelspec": {
      "display_name": "Python 3",
      "language": "python",
      "name": "python3"
    },
    "language_info": {
      "codemirror_mode": {
        "name": "ipython",
        "version": 3
      },
      "file_extension": ".py",
      "mimetype": "text/x-python",
      "name": "python",
      "nbconvert_exporter": "python",
      "pygments_lexer": "ipython3",
      "version": "3.6.4"
    },
    "colab": {
      "name": "P4DS4D2_01_Quick_Overview.ipynb",
      "provenance": [],
      "include_colab_link": true
    }
  },
  "nbformat": 4,
  "nbformat_minor": 0
}